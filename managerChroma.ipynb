{
 "cells": [
  {
   "cell_type": "code",
   "execution_count": 11,
   "metadata": {},
   "outputs": [],
   "source": [
    "# connect to Chromadb\n",
    "import json, os, chromadb\n",
    "from dotenv import load_dotenv\n",
    "\n",
    "load_dotenv()\n",
    "DB_PATH = os.getenv(\"DB_PATH\")\n"
   ]
  },
  {
   "cell_type": "code",
   "execution_count": 12,
   "metadata": {},
   "outputs": [],
   "source": [
    "def list_collections():\n",
    "    collections = chromadb.PersistentClient(path=DB_PATH).get_collection(name=\"team_ids\")\n",
    "    # note that get() is used on the collection object to get the items within the collection\n",
    "    info = {}\n",
    "    info['name'] = collections.name\n",
    "    info['first_10'] = collections.peek()\n",
    "    info['num_of_items'] = collections.count()\n",
    "    return info"
   ]
  },
  {
   "cell_type": "code",
   "execution_count": 13,
   "metadata": {},
   "outputs": [
    {
     "name": "stdout",
     "output_type": "stream",
     "text": [
      "name: team_ids\n",
      "first_10: {'ids': [], 'embeddings': [], 'metadatas': [], 'documents': [], 'uris': None, 'data': None, 'included': ['embeddings', 'metadatas', 'documents']}\n",
      "num_of_items: 0\n"
     ]
    }
   ],
   "source": [
    "for key, value in list_collections().items():\n",
    "        print(f\"{key}: {value}\")"
   ]
  }
 ],
 "metadata": {
  "kernelspec": {
   "display_name": ".venv",
   "language": "python",
   "name": "python3"
  },
  "language_info": {
   "codemirror_mode": {
    "name": "ipython",
    "version": 3
   },
   "file_extension": ".py",
   "mimetype": "text/x-python",
   "name": "python",
   "nbconvert_exporter": "python",
   "pygments_lexer": "ipython3",
   "version": "3.12.1"
  }
 },
 "nbformat": 4,
 "nbformat_minor": 2
}
